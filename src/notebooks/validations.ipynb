{
 "cells": [
  {
   "cell_type": "code",
   "execution_count": null,
   "id": "eae0e981",
   "metadata": {},
   "outputs": [],
   "source": [
    "import os\n",
    "import torch"
   ]
  },
  {
   "cell_type": "code",
   "execution_count": null,
   "id": "c63ab682",
   "metadata": {},
   "outputs": [],
   "source": [
    "# set cwd to gemma_scope_math\n",
    "os.chdir('D:/Master\\'s/gemma_scope_math')\n",
    "print(os.getcwd())"
   ]
  },
  {
   "cell_type": "code",
   "execution_count": null,
   "id": "91a296d3",
   "metadata": {},
   "outputs": [],
   "source": [
    "# import functions and code from my modules and test them. \n",
    "from src.feed_forward.feedforward_module import FeedForwardModule"
   ]
  },
  {
   "cell_type": "code",
   "execution_count": null,
   "id": "e6a37e56",
   "metadata": {},
   "outputs": [],
   "source": [
    "dataset = \"random_addition\"\n",
    "\n",
    "# Create an instance of FeedForwardModule\n",
    "module = FeedForwardModule(batch_size=500, output_dir=f\"./activations/{dataset}\")\n",
    "\n"
   ]
  },
  {
   "cell_type": "code",
   "execution_count": null,
   "id": "b5d48229",
   "metadata": {},
   "outputs": [],
   "source": [
    "module.model"
   ]
  },
  {
   "cell_type": "code",
   "execution_count": null,
   "id": "045b2486",
   "metadata": {},
   "outputs": [],
   "source": [
    "example_prompt = \"What is 2 + 2?\"\n",
    "tokens = module.tokenizer(example_prompt, return_tensors=\"pt\", padding=True,return_attention_mask=True)\n",
    "input_ids = tokens.input_ids[0]\n",
    "\n",
    "for token_id in input_ids:\n",
    "    token_str = module.tokenizer.decode([token_id])\n",
    "    print(f\"{token_id.item():<5} -> '{token_str}'\")"
   ]
  },
  {
   "cell_type": "code",
   "execution_count": null,
   "id": "1797bbfd",
   "metadata": {},
   "outputs": [],
   "source": [
    "tokens = {k: v.to(\"cuda\") for k, v in tokens.items()}"
   ]
  },
  {
   "cell_type": "code",
   "execution_count": null,
   "id": "bf0a68d9",
   "metadata": {},
   "outputs": [],
   "source": [
    "tokens"
   ]
  },
  {
   "cell_type": "code",
   "execution_count": null,
   "id": "a2876981",
   "metadata": {},
   "outputs": [],
   "source": [
    "with torch.no_grad():\n",
    "    outputs = module.model(**tokens, output_hidden_states=True)"
   ]
  },
  {
   "cell_type": "code",
   "execution_count": null,
   "id": "4e6d3cc2",
   "metadata": {},
   "outputs": [],
   "source": [
    "type(outputs.hidden_states)"
   ]
  },
  {
   "cell_type": "code",
   "execution_count": null,
   "id": "ccb0bb1f",
   "metadata": {},
   "outputs": [],
   "source": [
    "len(outputs.hidden_states)"
   ]
  },
  {
   "cell_type": "code",
   "execution_count": null,
   "id": "6800d731",
   "metadata": {},
   "outputs": [],
   "source": [
    "with torch.no_grad():\n",
    "    new_outputs = module.model(**tokens, output_hidden_states=True)"
   ]
  },
  {
   "cell_type": "code",
   "execution_count": null,
   "id": "5a54e17c",
   "metadata": {},
   "outputs": [],
   "source": [
    "(new_outputs.hidden_states[0] == outputs.hidden_states[0]).all().item()"
   ]
  },
  {
   "cell_type": "code",
   "execution_count": null,
   "id": "cb0b9fb6",
   "metadata": {},
   "outputs": [],
   "source": [
    "(new_outputs.hidden_states[15] == outputs.hidden_states[15]).all().item()"
   ]
  },
  {
   "cell_type": "code",
   "execution_count": null,
   "id": "7535275a",
   "metadata": {},
   "outputs": [],
   "source": [
    "# Let's examine each hidden state to understand the layer correspondence\n",
    "print(\"Hidden states analysis:\")\n",
    "print(f\"Total number of hidden states: {len(outputs.hidden_states)}\")\n",
    "print(\"\\nShape of each hidden state:\")\n",
    "for i, hidden_state in enumerate(outputs.hidden_states):\n",
    "    print(f\"Layer {i}: {hidden_state.shape}\")"
   ]
  },
  {
   "cell_type": "code",
   "execution_count": null,
   "id": "3aa398f8",
   "metadata": {},
   "outputs": [],
   "source": [
    "# Let's clarify what each layer represents\n",
    "print(\"\\nLayer correspondence:\")\n",
    "print(\"Layer 0: Embedding layer output (after token embeddings)\")\n",
    "for i in range(1, 27):\n",
    "    print(f\"Layer {i}: Transformer block {i-1} output (blocks are 0-indexed)\")\n",
    "\n",
    "print(f\"\\nSo you have:\")\n",
    "print(f\"- Layer 0: Embeddings\")\n",
    "print(f\"- Layers 1-26: Output from transformer blocks 0-25\")\n",
    "print(f\"- Total transformer blocks: 26 (as you mentioned)\")\n",
    "print(f\"- The final norm and LM head are applied after these hidden states\")"
   ]
  },
  {
   "cell_type": "code",
   "execution_count": null,
   "id": "cda72877",
   "metadata": {},
   "outputs": [],
   "source": [
    "# Let's verify by checking the model config\n",
    "print(\"Model configuration:\")\n",
    "print(f\"Number of hidden layers: {module.model.config.num_hidden_layers}\")\n",
    "print(f\"Hidden size: {module.model.config.hidden_size}\")\n",
    "print(f\"Vocab size: {module.model.config.vocab_size}\")\n",
    "\n",
    "# Also check the actual model structure\n",
    "print(f\"\\nModel architecture verification:\")\n",
    "print(f\"Embedding layer: {type(module.model.model.embed_tokens).__name__}\")\n",
    "print(f\"Number of transformer layers: {len(module.model.model.layers)}\")\n",
    "print(f\"Final norm layer: {type(module.model.model.norm).__name__}\")\n",
    "print(f\"LM head: {type(module.model.lm_head).__name__}\")"
   ]
  },
  {
   "cell_type": "code",
   "execution_count": null,
   "id": "3acc64da",
   "metadata": {},
   "outputs": [],
   "source": [
    "module.model.config"
   ]
  },
  {
   "cell_type": "code",
   "execution_count": null,
   "id": "196d6142",
   "metadata": {},
   "outputs": [],
   "source": [
    "from src.feed_forward.sae_module import SAEModule"
   ]
  },
  {
   "cell_type": "code",
   "execution_count": null,
   "id": "3c2c71eb",
   "metadata": {},
   "outputs": [],
   "source": []
  },
  {
   "cell_type": "code",
   "execution_count": null,
   "id": "3829b498",
   "metadata": {},
   "outputs": [],
   "source": [
    "# Check available Gemma Scope SAEs\n",
    "from sae_lens.toolkit.pretrained_saes_directory import get_pretrained_saes_directory\n",
    "\n",
    "# Get the full directory of pretrained SAEs\n",
    "sae_directory = get_pretrained_saes_directory()\n",
    "\n",
    "# Filter for gemma-scope models\n",
    "gemma_scope_saes = {k: v for k, v in sae_directory.items() if 'gemma-scope' in k.lower()}\n",
    "\n",
    "print(\"Available Gemma Scope SAE releases:\")\n",
    "print(\"=\" * 50)\n",
    "\n",
    "for release_name, sae_info in gemma_scope_saes.items():\n",
    "    print(f\"\\nRelease: {release_name}\")\n",
    "    print(\"-\" * 30)\n",
    "    \n",
    "    # Check if saes_map exists and print layer information\n",
    "    if hasattr(sae_info, 'saes_map') and sae_info.saes_map:\n",
    "        print(f\"Available layers/SAEs: {len(sae_info.saes_map)}\")\n",
    "        \n",
    "        # Group by layer to see pattern\n",
    "        layers = set()\n",
    "        for sae_id in sae_info.saes_map.keys():\n",
    "            if 'layer_' in sae_id:\n",
    "                layer_num = sae_id.split('layer_')[1].split('/')[0]\n",
    "                try:\n",
    "                    layers.add(int(layer_num))\n",
    "                except:\n",
    "                    layers.add(layer_num)\n",
    "        \n",
    "        if layers:\n",
    "            if all(isinstance(x, int) for x in layers):\n",
    "                sorted_layers = sorted(layers)\n",
    "                print(f\"Layers: {min(sorted_layers)}-{max(sorted_layers)} (total: {len(sorted_layers)})\")\n",
    "            else:\n",
    "                print(f\"Layers: {sorted(layers)}\")\n",
    "        \n",
    "        # Show first few SAE IDs as examples\n",
    "        sample_ids = list(sae_info.saes_map.keys())[:5]\n",
    "        print(f\"Sample SAE IDs:\")\n",
    "        for sae_id in sample_ids:\n",
    "            print(f\"  - {sae_id}\")\n",
    "        if len(sae_info.saes_map) > 5:\n",
    "            print(f\"  ... and {len(sae_info.saes_map) - 5} more\")\n",
    "    else:\n",
    "        print(\"No SAE map information available\")"
   ]
  },
  {
   "cell_type": "code",
   "execution_count": null,
   "id": "e4103dc6",
   "metadata": {},
   "outputs": [],
   "source": [
    "# More focused check for specific Gemma Scope releases\n",
    "releases_to_check = [\n",
    "    \"gemma-scope-2b-pt-res-canonical\",\n",
    "    \"gemma-scope-2b-pt-mlp-canonical\", \n",
    "    \"gemma-scope-2b-pt-att-canonical\"\n",
    "]\n",
    "\n",
    "for release in releases_to_check:\n",
    "    if release in sae_directory:\n",
    "        print(f\"\\n{'='*60}\")\n",
    "        print(f\"Release: {release}\")\n",
    "        print(f\"{'='*60}\")\n",
    "        \n",
    "        sae_info = sae_directory[release]\n",
    "        \n",
    "        if hasattr(sae_info, 'saes_map') and sae_info.saes_map:\n",
    "            # Extract layer numbers\n",
    "            layers = set()\n",
    "            widths = set()\n",
    "            \n",
    "            for sae_id in sae_info.saes_map.keys():\n",
    "                parts = sae_id.split('/')\n",
    "                for part in parts:\n",
    "                    if part.startswith('layer_'):\n",
    "                        try:\n",
    "                            layer_num = int(part.split('layer_')[1])\n",
    "                            layers.add(layer_num)\n",
    "                        except:\n",
    "                            pass\n",
    "                    elif part.startswith('width_'):\n",
    "                        try:\n",
    "                            width = part.split('width_')[1]\n",
    "                            widths.add(width)\n",
    "                        except:\n",
    "                            pass\n",
    "            \n",
    "            if layers:\n",
    "                sorted_layers = sorted(layers)\n",
    "                print(f\"Available layers: {sorted_layers}\")\n",
    "                print(f\"Layer range: {min(sorted_layers)} to {max(sorted_layers)}\")\n",
    "                print(f\"Total layers: {len(sorted_layers)}\")\n",
    "            \n",
    "            if widths:\n",
    "                print(f\"Available widths: {sorted(widths)}\")\n",
    "                \n",
    "            print(f\"\\nTotal SAEs in this release: {len(sae_info.saes_map)}\")\n",
    "            \n",
    "            # Show structure of first few SAE IDs\n",
    "            sample_ids = sorted(list(sae_info.saes_map.keys()))[:10]\n",
    "            print(f\"\\nFirst 10 SAE IDs:\")\n",
    "            for sae_id in sample_ids:\n",
    "                print(f\"  {sae_id}\")\n",
    "                \n",
    "        else:\n",
    "            print(\"No SAE information available\")\n",
    "    else:\n",
    "        print(f\"\\nRelease '{release}' not found in directory\")"
   ]
  }
 ],
 "metadata": {
  "kernelspec": {
   "display_name": "base",
   "language": "python",
   "name": "python3"
  },
  "language_info": {
   "codemirror_mode": {
    "name": "ipython",
    "version": 3
   },
   "file_extension": ".py",
   "mimetype": "text/x-python",
   "name": "python",
   "nbconvert_exporter": "python",
   "pygments_lexer": "ipython3",
   "version": "3.11.7"
  }
 },
 "nbformat": 4,
 "nbformat_minor": 5
}
